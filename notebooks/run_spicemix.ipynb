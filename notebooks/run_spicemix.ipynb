{
 "cells": [
  {
   "cell_type": "code",
   "execution_count": 1,
   "id": "bbb2823f",
   "metadata": {},
   "outputs": [],
   "source": [
    "import os\n",
    "import re\n",
    "import subprocess\n",
    "from pathlib import Path\n",
    "\n",
    "from wombat.utils import listfiles\n",
    "from wombat.bsub import batch_bsub_commands, DEFAULT_ARGS, write_command_file"
   ]
  },
  {
   "cell_type": "markdown",
   "id": "4b3ec1e2",
   "metadata": {},
   "source": [
    "python main.py -K=20 --dataset=\"path/to/simulation 1\" --repli_list=\"[1,3]\" --use_spatial=\"[True]*2\" --result_filename=\"SpiceMix_K20_FOV13.h5\""
   ]
  },
  {
   "cell_type": "code",
   "execution_count": 2,
   "id": "528b2376",
   "metadata": {},
   "outputs": [],
   "source": [
    "# in_dir = '/storage1/fs1/dinglab/Active/Projects/estorrs/SpiceMix/analysis/sc_pdac/HT242P1-H1/inputs'\n",
    "# out_dir = '/storage1/fs1/dinglab/Active/Projects/estorrs/SpiceMix/analysis/sc_pdac/HT242P1-H1'"
   ]
  },
  {
   "cell_type": "code",
   "execution_count": 3,
   "id": "f26f497a",
   "metadata": {},
   "outputs": [],
   "source": [
    "# in_dir = '/storage1/fs1/dinglab/Active/Projects/estorrs/SpiceMix/analysis/brca_dcis/combined_run_1/inputs'\n",
    "# out_dir = '/storage1/fs1/dinglab/Active/Projects/estorrs/SpiceMix/analysis/brca_dcis/combined_run_1'"
   ]
  },
  {
   "cell_type": "code",
   "execution_count": 4,
   "id": "36436b44",
   "metadata": {},
   "outputs": [],
   "source": [
    "# in_dir = '/storage1/fs1/dinglab/Active/Projects/estorrs/SpiceMix/analysis/mCRC/combined_run_1/inputs'\n",
    "# out_dir = '/storage1/fs1/dinglab/Active/Projects/estorrs/SpiceMix/analysis/mCRC/combined_run_1'"
   ]
  },
  {
   "cell_type": "code",
   "execution_count": 5,
   "id": "294674f5",
   "metadata": {},
   "outputs": [],
   "source": [
    "# in_dir = '/storage1/fs1/dinglab/Active/Projects/estorrs/SpiceMix/analysis/brca/oct_only_50_meta/inputs/'\n",
    "# out_dir = '/storage1/fs1/dinglab/Active/Projects/estorrs/SpiceMix/analysis/brca/oct_only_50_meta'"
   ]
  },
  {
   "cell_type": "code",
   "execution_count": 6,
   "id": "143497a5",
   "metadata": {},
   "outputs": [],
   "source": [
    "# in_dir = '/storage1/fs1/dinglab/Active/Projects/estorrs/SpiceMix/analysis/pkd/K2100253/inputs/'\n",
    "# out_dir = '/storage1/fs1/dinglab/Active/Projects/estorrs/SpiceMix/analysis/pkd/K2100253'"
   ]
  },
  {
   "cell_type": "code",
   "execution_count": 7,
   "id": "1f3fc9db",
   "metadata": {},
   "outputs": [],
   "source": [
    "# in_dir = '/storage1/fs1/dinglab/Active/Projects/estorrs/SpiceMix/analysis/brca/alla_tumor_only/inputs/'\n",
    "# out_dir = '/storage1/fs1/dinglab/Active/Projects/estorrs/SpiceMix/analysis/brca/alla_tumor_only'"
   ]
  },
  {
   "cell_type": "code",
   "execution_count": 8,
   "id": "f061fa48",
   "metadata": {},
   "outputs": [],
   "source": [
    "# in_dir = '/storage1/fs1/dinglab/Active/Projects/estorrs/SpiceMix/analysis/brca/alla_tumor_only_09202022/inputs/'\n",
    "# out_dir = '/storage1/fs1/dinglab/Active/Projects/estorrs/SpiceMix/analysis/brca/alla_tumor_only_09202022'"
   ]
  },
  {
   "cell_type": "code",
   "execution_count": 9,
   "id": "cc2a36f7",
   "metadata": {},
   "outputs": [],
   "source": [
    "# in_dir = '/storage1/fs1/dinglab/Active/Projects/estorrs/SpiceMix/analysis/brca/alla_oct_only/inputs/'\n",
    "# out_dir = '/storage1/fs1/dinglab/Active/Projects/estorrs/SpiceMix/analysis/brca/alla_oct_only'"
   ]
  },
  {
   "cell_type": "code",
   "execution_count": 10,
   "id": "126371fd",
   "metadata": {},
   "outputs": [],
   "source": [
    "in_dir = '/storage1/fs1/dinglab/Active/Projects/estorrs/SpiceMix/analysis/brca/alla_oct_only_10_meta/inputs/'\n",
    "out_dir = '/storage1/fs1/dinglab/Active/Projects/estorrs/SpiceMix/analysis/brca/alla_oct_only_10_meta/'"
   ]
  },
  {
   "cell_type": "code",
   "execution_count": 11,
   "id": "99d27a61",
   "metadata": {},
   "outputs": [],
   "source": [
    "# K = 50\n",
    "# K = 20\n",
    "K = 10\n",
    "out = os.path.join(out_dir, 'output.h5')\n",
    "\n",
    "log_dir = os.path.join(out_dir, 'logs')\n",
    "Path(log_dir).mkdir(parents=True, exist_ok=True)"
   ]
  },
  {
   "cell_type": "code",
   "execution_count": 12,
   "id": "6f48442d",
   "metadata": {},
   "outputs": [],
   "source": [
    "fovs = [re.sub(r'^.*expression_(.*).txt$', r'\\1', fp) for fp in sorted(listfiles(in_dir, regex='expression'))]\n",
    "bools = ['True'] * len(fovs)\n",
    "\n",
    "fov_str = '[' + ','.join(fovs) + ']'\n",
    "bool_str = '[' + ','.join(bools) + ']'"
   ]
  },
  {
   "cell_type": "code",
   "execution_count": 13,
   "id": "e8e0e0d4",
   "metadata": {},
   "outputs": [
    {
     "data": {
      "text/plain": [
       "'cd /storage1/fs1/dinglab/Active/Projects/estorrs/SpiceMix/SpiceMix/ && python main.py -K=10 --path2dataset=/storage1/fs1/dinglab/Active/Projects/estorrs/SpiceMix/analysis/brca/alla_oct_only_10_meta/inputs/ --repli_list=\"[10,11,12,13,14,15,16,18,8,9]\" --use_spatial=\"[True,True,True,True,True,True,True,True,True,True]\" --result_filename=\"/storage1/fs1/dinglab/Active/Projects/estorrs/SpiceMix/analysis/brca/alla_oct_only_10_meta/output.h5\" --expression_suffix=\"\" --neighbor_suffix=\"\"'"
      ]
     },
     "execution_count": 13,
     "metadata": {},
     "output_type": "execute_result"
    }
   ],
   "source": [
    "cwd = '/storage1/fs1/dinglab/Active/Projects/estorrs/SpiceMix/SpiceMix/'\n",
    "command = f'cd {cwd} && python main.py -K={K} --path2dataset={in_dir} --repli_list=\"{fov_str}\" --use_spatial=\"{bool_str}\" --result_filename=\"{out}\" --expression_suffix=\"\" --neighbor_suffix=\"\"'\n",
    "\n",
    "command\n"
   ]
  },
  {
   "cell_type": "code",
   "execution_count": 14,
   "id": "56b9815e",
   "metadata": {},
   "outputs": [
    {
     "data": {
      "text/plain": [
       "{'mem': 10,\n",
       " 'n_processes': 1,\n",
       " 'max_mem': None,\n",
       " 'docker': 'python:3.8',\n",
       " 'queue': 'dinglab',\n",
       " 'gpu_model': 'TeslaV100_SXM2_32GB',\n",
       " 'gpu_mem': '30',\n",
       " 'gpu_num': 1,\n",
       " 'use_gpu': False,\n",
       " 'group': 'compute-dinglab',\n",
       " 'group_name': None,\n",
       " 'n_concurrent': 10,\n",
       " 'interactive': False,\n",
       " 'username': 'estorrs'}"
      ]
     },
     "execution_count": 14,
     "metadata": {},
     "output_type": "execute_result"
    }
   ],
   "source": [
    "args = DEFAULT_ARGS\n",
    "args"
   ]
  },
  {
   "cell_type": "code",
   "execution_count": 15,
   "id": "41492a67",
   "metadata": {},
   "outputs": [],
   "source": [
    "args['mem'] = 100\n",
    "args['gpu_mem'] = 28\n",
    "args['docker'] = 'estorrs/spicemix:75522de'\n",
    "args['queue'] = 'general'\n",
    "args['use_gpu'] = True\n",
    "args['username'] = 'estorrs'\n",
    "args['group'] = 'compute-dinglab'\n",
    "exports = ['/miniconda/envs/SpiceMix/bin']"
   ]
  },
  {
   "cell_type": "code",
   "execution_count": 16,
   "id": "f65213bd",
   "metadata": {},
   "outputs": [
    {
     "data": {
      "text/plain": [
       "['mkdir -p /storage1/fs1/dinglab/Active/Projects/estorrs/SpiceMix/analysis/brca/alla_oct_only_10_meta/logs',\n",
       " 'export LSF_DOCKER_VOLUMES=\"/storage1/fs1/dinglab:/storage1/fs1/dinglab /scratch1/fs1/dinglab:/scratch1/fs1/dinglab /home/estorrs:/home/estorrs /storage1/fs1/dinglab/Active/Projects/estorrs/SpiceMix/analysis/brca/alla_oct_only_10_meta/logs:/storage1/fs1/dinglab/Active/Projects/estorrs/SpiceMix/analysis/brca/alla_oct_only_10_meta/logs\"',\n",
       " 'export PATH=\"/opt/java/openjdk/bin:/miniconda/envs/SpiceMix/bin:$PATH\"',\n",
       " 'bsub -R \\'select[gpuhost,mem>100GB] rusage[mem=100GB] span[hosts=1]\\' -M 101GB -gpu \\'num=1:gmodel=TeslaV100_SXM2_32GB:gmem=28GB\\' -n 1 -q general -G compute-dinglab -a \\'docker(estorrs/spicemix:75522de)\\' -oo /storage1/fs1/dinglab/Active/Projects/estorrs/SpiceMix/analysis/brca/alla_oct_only_10_meta/logs/spicemix_run_1.txt \\'cd /storage1/fs1/dinglab/Active/Projects/estorrs/SpiceMix/SpiceMix/ && python main.py -K=10 --path2dataset=/storage1/fs1/dinglab/Active/Projects/estorrs/SpiceMix/analysis/brca/alla_oct_only_10_meta/inputs/ --repli_list=\"[10,11,12,13,14,15,16,18,8,9]\" --use_spatial=\"[True,True,True,True,True,True,True,True,True,True]\" --result_filename=\"/storage1/fs1/dinglab/Active/Projects/estorrs/SpiceMix/analysis/brca/alla_oct_only_10_meta/output.h5\" --expression_suffix=\"\" --neighbor_suffix=\"\"\\'']"
      ]
     },
     "execution_count": 16,
     "metadata": {},
     "output_type": "execute_result"
    }
   ],
   "source": [
    "cmds = batch_bsub_commands([command], ['spicemix_run_1'], log_dir, args, exports=exports)\n",
    "cmds"
   ]
  },
  {
   "cell_type": "code",
   "execution_count": 17,
   "id": "aa26ec2e",
   "metadata": {},
   "outputs": [],
   "source": [
    "write_command_file(cmds, os.path.join(out_dir, 'start_spicemix.sh'))"
   ]
  },
  {
   "cell_type": "code",
   "execution_count": null,
   "id": "5e1bd7b3",
   "metadata": {},
   "outputs": [],
   "source": []
  }
 ],
 "metadata": {
  "kernelspec": {
   "display_name": "Python 3",
   "language": "python",
   "name": "python3"
  },
  "language_info": {
   "codemirror_mode": {
    "name": "ipython",
    "version": 3
   },
   "file_extension": ".py",
   "mimetype": "text/x-python",
   "name": "python",
   "nbconvert_exporter": "python",
   "pygments_lexer": "ipython3",
   "version": "3.7.3"
  }
 },
 "nbformat": 4,
 "nbformat_minor": 5
}
