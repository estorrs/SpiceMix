{
 "cells": [
  {
   "cell_type": "code",
   "execution_count": 1,
   "id": "bbb2823f",
   "metadata": {},
   "outputs": [],
   "source": [
    "import os\n",
    "import re\n",
    "import subprocess\n",
    "from pathlib import Path\n",
    "\n",
    "from wombat.utils import listfiles\n",
    "from wombat.bsub import batch_bsub_commands, DEFAULT_ARGS, write_command_file"
   ]
  },
  {
   "cell_type": "code",
   "execution_count": 2,
   "id": "683c6651",
   "metadata": {},
   "outputs": [],
   "source": [
    "# !pip install --force-reinstall git+https://github.com/estorrs/wombat"
   ]
  },
  {
   "cell_type": "code",
   "execution_count": 3,
   "id": "564c0c98",
   "metadata": {},
   "outputs": [],
   "source": [
    "# !pip install git+https://github.com/estorrs/wombat.git@2debd536de6a42d2f550366f27e708d2fa9cd09e"
   ]
  },
  {
   "cell_type": "markdown",
   "id": "4b3ec1e2",
   "metadata": {},
   "source": [
    "python main.py -K=20 --dataset=\"path/to/simulation 1\" --repli_list=\"[1,3]\" --use_spatial=\"[True]*2\" --result_filename=\"SpiceMix_K20_FOV13.h5\""
   ]
  },
  {
   "cell_type": "code",
   "execution_count": null,
   "id": "528b2376",
   "metadata": {},
   "outputs": [],
   "source": [
    "# in_dir = '/storage1/fs1/dinglab/Active/Projects/estorrs/SpiceMix/analysis/sc_pdac/HT242P1-H1/inputs'\n",
    "# out_dir = '/storage1/fs1/dinglab/Active/Projects/estorrs/SpiceMix/analysis/sc_pdac/HT242P1-H1'"
   ]
  },
  {
   "cell_type": "code",
   "execution_count": 4,
   "id": "f26f497a",
   "metadata": {},
   "outputs": [],
   "source": [
    "in_dir = '/storage1/fs1/dinglab/Active/Projects/estorrs/SpiceMix/analysis/brca_dcis/combined_run_1/inputs'\n",
    "out_dir = '/storage1/fs1/dinglab/Active/Projects/estorrs/SpiceMix/analysis/brca_dcis/combined_run_1'"
   ]
  },
  {
   "cell_type": "code",
   "execution_count": 5,
   "id": "99d27a61",
   "metadata": {},
   "outputs": [],
   "source": [
    "K = 20\n",
    "out = os.path.join(out_dir, 'output.h5')\n",
    "\n",
    "log_dir = os.path.join(out_dir, 'logs')\n",
    "Path(log_dir).mkdir(parents=True, exist_ok=True)"
   ]
  },
  {
   "cell_type": "code",
   "execution_count": 6,
   "id": "6f48442d",
   "metadata": {},
   "outputs": [],
   "source": [
    "fovs = [re.sub(r'^.*expression_(.*).txt$', r'\\1', fp) for fp in sorted(listfiles(in_dir, regex='expression'))]\n",
    "bools = ['True'] * len(fovs)\n",
    "\n",
    "fov_str = '[' + ','.join(fovs) + ']'\n",
    "bool_str = '[' + ','.join(bools) + ']'"
   ]
  },
  {
   "cell_type": "code",
   "execution_count": 7,
   "id": "e8e0e0d4",
   "metadata": {},
   "outputs": [
    {
     "data": {
      "text/plain": [
       "'cd /storage1/fs1/dinglab/Active/Projects/estorrs/SpiceMix/SpiceMix/ && python main.py -K=20 --path2dataset=/storage1/fs1/dinglab/Active/Projects/estorrs/SpiceMix/analysis/brca_dcis/combined_run_1/inputs --repli_list=\"[0,1,10,11,12,13,14,15,16,17,2,3,4,5,6,7,8,9]\" --use_spatial=\"[True,True,True,True,True,True,True,True,True,True,True,True,True,True,True,True,True,True]\" --result_filename=\"/storage1/fs1/dinglab/Active/Projects/estorrs/SpiceMix/analysis/brca_dcis/combined_run_1/output.h5\" --expression_suffix=\"\" --neighbor_suffix=\"\"'"
      ]
     },
     "execution_count": 7,
     "metadata": {},
     "output_type": "execute_result"
    }
   ],
   "source": [
    "cwd = '/storage1/fs1/dinglab/Active/Projects/estorrs/SpiceMix/SpiceMix/'\n",
    "command = f'cd {cwd} && python main.py -K={K} --path2dataset={in_dir} --repli_list=\"{fov_str}\" --use_spatial=\"{bool_str}\" --result_filename=\"{out}\" --expression_suffix=\"\" --neighbor_suffix=\"\"'\n",
    "\n",
    "command\n"
   ]
  },
  {
   "cell_type": "code",
   "execution_count": 8,
   "id": "56b9815e",
   "metadata": {},
   "outputs": [
    {
     "data": {
      "text/plain": [
       "{'mem': 10,\n",
       " 'n_processes': 1,\n",
       " 'max_mem': None,\n",
       " 'docker': 'python:3.8',\n",
       " 'queue': 'dinglab',\n",
       " 'gpu_model': 'TeslaV100_SXM2_32GB',\n",
       " 'gpu_mem': '30',\n",
       " 'gpu_num': 1,\n",
       " 'use_gpu': False,\n",
       " 'group': 'compute-dinglab',\n",
       " 'group_name': None,\n",
       " 'n_concurrent': 10,\n",
       " 'interactive': False,\n",
       " 'username': 'estorrs'}"
      ]
     },
     "execution_count": 8,
     "metadata": {},
     "output_type": "execute_result"
    }
   ],
   "source": [
    "args = DEFAULT_ARGS\n",
    "args"
   ]
  },
  {
   "cell_type": "code",
   "execution_count": 9,
   "id": "41492a67",
   "metadata": {},
   "outputs": [],
   "source": [
    "args['mem'] = 100\n",
    "args['docker'] = 'estorrs/spicemix:75522de'\n",
    "args['queue'] = 'general'\n",
    "args['use_gpu'] = True\n",
    "exports = ['/miniconda/envs/SpiceMix/bin']"
   ]
  },
  {
   "cell_type": "code",
   "execution_count": 10,
   "id": "f65213bd",
   "metadata": {},
   "outputs": [
    {
     "data": {
      "text/plain": [
       "['mkdir -p /storage1/fs1/dinglab/Active/Projects/estorrs/SpiceMix/analysis/brca_dcis/combined_run_1/logs',\n",
       " 'export LSF_DOCKER_VOLUMES=\"/storage1/fs1/dinglab:/storage1/fs1/dinglab /scratch1/fs1/dinglab:/scratch1/fs1/dinglab /home/estorrs:/home/estorrs /storage1/fs1/dinglab/Active/Projects/estorrs/SpiceMix/analysis/brca_dcis/combined_run_1/logs:/storage1/fs1/dinglab/Active/Projects/estorrs/SpiceMix/analysis/brca_dcis/combined_run_1/logs\"',\n",
       " 'export PATH=\"/opt/java/openjdk/bin:/miniconda/envs/SpiceMix/bin:$PATH\"',\n",
       " 'bsub -R \\'select[gpuhost,mem>100GB] rusage[mem=100GB] span[hosts=1]\\' -M 101GB -gpu \\'num=1:gmodel=TeslaV100_SXM2_32GB:gmem=30GB\\' -n 1 -q general -G compute-dinglab -a \\'docker(estorrs/spicemix:75522de)\\' -oo /storage1/fs1/dinglab/Active/Projects/estorrs/SpiceMix/analysis/brca_dcis/combined_run_1/logs/spicemix_run_1.txt \\'cd /storage1/fs1/dinglab/Active/Projects/estorrs/SpiceMix/SpiceMix/ && python main.py -K=20 --path2dataset=/storage1/fs1/dinglab/Active/Projects/estorrs/SpiceMix/analysis/brca_dcis/combined_run_1/inputs --repli_list=\"[0,1,10,11,12,13,14,15,16,17,2,3,4,5,6,7,8,9]\" --use_spatial=\"[True,True,True,True,True,True,True,True,True,True,True,True,True,True,True,True,True,True]\" --result_filename=\"/storage1/fs1/dinglab/Active/Projects/estorrs/SpiceMix/analysis/brca_dcis/combined_run_1/output.h5\" --expression_suffix=\"\" --neighbor_suffix=\"\"\\'']"
      ]
     },
     "execution_count": 10,
     "metadata": {},
     "output_type": "execute_result"
    }
   ],
   "source": [
    "cmds = batch_bsub_commands([command], ['spicemix_run_1'], log_dir, args, exports=exports)\n",
    "cmds"
   ]
  },
  {
   "cell_type": "code",
   "execution_count": 11,
   "id": "aa26ec2e",
   "metadata": {},
   "outputs": [],
   "source": [
    "write_command_file(cmds, os.path.join(out_dir, 'start_spicemix.sh'))"
   ]
  },
  {
   "cell_type": "code",
   "execution_count": 5,
   "id": "cfd3d632",
   "metadata": {},
   "outputs": [],
   "source": [
    "# old_cwd = os.getcwd()\n",
    "# os.chdir('/storage1/fs1/dinglab/Active/Projects/estorrs/SpiceMix/SpiceMix')\n",
    "# subprocess.check_output(command, shell=True)"
   ]
  },
  {
   "cell_type": "code",
   "execution_count": null,
   "id": "738ce9f1",
   "metadata": {},
   "outputs": [],
   "source": []
  },
  {
   "cell_type": "code",
   "execution_count": null,
   "id": "9309ae50",
   "metadata": {},
   "outputs": [],
   "source": []
  }
 ],
 "metadata": {
  "kernelspec": {
   "display_name": "Python 3",
   "language": "python",
   "name": "python3"
  },
  "language_info": {
   "codemirror_mode": {
    "name": "ipython",
    "version": 3
   },
   "file_extension": ".py",
   "mimetype": "text/x-python",
   "name": "python",
   "nbconvert_exporter": "python",
   "pygments_lexer": "ipython3",
   "version": "3.7.3"
  }
 },
 "nbformat": 4,
 "nbformat_minor": 5
}
